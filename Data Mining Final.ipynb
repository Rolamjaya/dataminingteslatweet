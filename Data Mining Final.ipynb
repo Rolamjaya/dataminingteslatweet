{
 "cells": [
  {
   "cell_type": "markdown",
   "id": "d45415cb-75a5-409e-9d85-0cf78d9b6307",
   "metadata": {},
   "source": [
    "## Data Mining Final\n",
    "### Twitter data and stock analysis - Tesla"
   ]
  },
  {
   "cell_type": "markdown",
   "id": "23600bf1-dc1b-4ebe-b8e5-2eeddfd9f9c2",
   "metadata": {},
   "source": [
    "**Business Question:**\n",
    "\n",
    "We would like to analyze Twitter data related to Tesla and its influence in Tesla Stock's price by using NLP and sentiment analysis."
   ]
  },
  {
   "cell_type": "markdown",
   "id": "09efffe4-2964-4549-b267-ad5911ee343e",
   "metadata": {},
   "source": [
    "### 0. installation and importation of library"
   ]
  },
  {
   "cell_type": "code",
   "execution_count": 30,
   "id": "85f4d9d0-07c5-41a4-9e4a-e25b3fbc7bf2",
   "metadata": {},
   "outputs": [],
   "source": [
    "#!pip install langdetect"
   ]
  },
  {
   "cell_type": "code",
   "execution_count": 79,
   "id": "532770d4-4c5e-41ec-aa4b-108d6618144a",
   "metadata": {},
   "outputs": [],
   "source": [
    "import langdetect as ld\n",
    "import pandas as pd\n",
    "import matplotlib.pyplot as plt\n",
    "import numpy as np\n",
    "import seaborn as sns\n",
    "import re"
   ]
  },
  {
   "cell_type": "markdown",
   "id": "9f505e2c-70ed-455a-8221-cf9160d9498c",
   "metadata": {
    "tags": []
   },
   "source": [
    "### 1. Read Data and Exploration"
   ]
  },
  {
   "cell_type": "markdown",
   "id": "cf5eaf2b-f15b-42ab-9db6-87af02c31cf1",
   "metadata": {},
   "source": [
    "#### Explore Tweet Dataframe"
   ]
  },
  {
   "cell_type": "code",
   "execution_count": 2,
   "id": "449c5281-0f48-4099-902e-9c7ba6962f3e",
   "metadata": {},
   "outputs": [],
   "source": [
    "df_tweet = pd.read_csv(\"Hashtag Tesla Tweets.csv\")"
   ]
  },
  {
   "cell_type": "code",
   "execution_count": 4,
   "id": "8f5a56b3-91f9-404f-8ea3-849ca40865d5",
   "metadata": {},
   "outputs": [
    {
     "data": {
      "text/html": [
       "<div>\n",
       "<style scoped>\n",
       "    .dataframe tbody tr th:only-of-type {\n",
       "        vertical-align: middle;\n",
       "    }\n",
       "\n",
       "    .dataframe tbody tr th {\n",
       "        vertical-align: top;\n",
       "    }\n",
       "\n",
       "    .dataframe thead th {\n",
       "        text-align: right;\n",
       "    }\n",
       "</style>\n",
       "<table border=\"1\" class=\"dataframe\">\n",
       "  <thead>\n",
       "    <tr style=\"text-align: right;\">\n",
       "      <th></th>\n",
       "      <th>Date &amp; Time</th>\n",
       "      <th>Profile Picture Link</th>\n",
       "      <th>Twitter ID</th>\n",
       "      <th>Tweet Text</th>\n",
       "      <th>Tweet Link</th>\n",
       "    </tr>\n",
       "  </thead>\n",
       "  <tbody>\n",
       "    <tr>\n",
       "      <th>0</th>\n",
       "      <td>April 10, 2022 at 07:44PM</td>\n",
       "      <td>http://pbs.twimg.com/profile_images/15120745...</td>\n",
       "      <td>@Jessica1988kk</td>\n",
       "      <td>RT @invest_answers: Crypto news, #Bitcoin Whal...</td>\n",
       "      <td>https://twitter.com/Jessica1988kk/status/15131...</td>\n",
       "    </tr>\n",
       "    <tr>\n",
       "      <th>1</th>\n",
       "      <td>April 10, 2022 at 07:45PM</td>\n",
       "      <td>http://pbs.twimg.com/profile_ s/87878355348773...</td>\n",
       "      <td>@JotaGe2014</td>\n",
       "      <td>#Tesla tiene récord de autos vendidos. Es impr...</td>\n",
       "      <td>https://twitter.com/JotaGe2014/status/15131737...</td>\n",
       "    </tr>\n",
       "    <tr>\n",
       "      <th>2</th>\n",
       "      <td>April 10, 2022 at 07:45PM</td>\n",
       "      <td>http://pbs.twimg.com/profile_images/936422368...</td>\n",
       "      <td>@MmeCallas</td>\n",
       "      <td>RT @CottonCodes: 🐒 #love in my #MariaCallas I ...</td>\n",
       "      <td>https://twitter.com/MmeCallas/status/151317374...</td>\n",
       "    </tr>\n",
       "    <tr>\n",
       "      <th>3</th>\n",
       "      <td>April 10, 2022 at 07:45PM</td>\n",
       "      <td>http://pbs.twimg.com/profile_images/146366591...</td>\n",
       "      <td>@BotSecx</td>\n",
       "      <td>RT @CottonCodes: 🐒 #love in my #MariaCallas I ...</td>\n",
       "      <td>https://twitter.com/BotSecx/status/15131737626...</td>\n",
       "    </tr>\n",
       "    <tr>\n",
       "      <th>4</th>\n",
       "      <td>April 10, 2022 at 07:45PM</td>\n",
       "      <td>http://pbs.twimg.com/profile_images/111675859...</td>\n",
       "      <td>@agseh</td>\n",
       "      <td>RT @RupiReportero_: 🙆‍♂️🚘 Al que le robaron la...</td>\n",
       "      <td>https://twitter.com/agseh/status/1513173864829...</td>\n",
       "    </tr>\n",
       "  </tbody>\n",
       "</table>\n",
       "</div>"
      ],
      "text/plain": [
       "                 Date & Time  \\\n",
       "0  April 10, 2022 at 07:44PM   \n",
       "1  April 10, 2022 at 07:45PM   \n",
       "2  April 10, 2022 at 07:45PM   \n",
       "3  April 10, 2022 at 07:45PM   \n",
       "4  April 10, 2022 at 07:45PM   \n",
       "\n",
       "                                Profile Picture Link      Twitter ID  \\\n",
       "0    http://pbs.twimg.com/profile_images/15120745...  @Jessica1988kk   \n",
       "1  http://pbs.twimg.com/profile_ s/87878355348773...     @JotaGe2014   \n",
       "2   http://pbs.twimg.com/profile_images/936422368...      @MmeCallas   \n",
       "3   http://pbs.twimg.com/profile_images/146366591...        @BotSecx   \n",
       "4   http://pbs.twimg.com/profile_images/111675859...          @agseh   \n",
       "\n",
       "                                          Tweet Text  \\\n",
       "0  RT @invest_answers: Crypto news, #Bitcoin Whal...   \n",
       "1  #Tesla tiene récord de autos vendidos. Es impr...   \n",
       "2  RT @CottonCodes: 🐒 #love in my #MariaCallas I ...   \n",
       "3  RT @CottonCodes: 🐒 #love in my #MariaCallas I ...   \n",
       "4  RT @RupiReportero_: 🙆‍♂️🚘 Al que le robaron la...   \n",
       "\n",
       "                                          Tweet Link  \n",
       "0  https://twitter.com/Jessica1988kk/status/15131...  \n",
       "1  https://twitter.com/JotaGe2014/status/15131737...  \n",
       "2  https://twitter.com/MmeCallas/status/151317374...  \n",
       "3  https://twitter.com/BotSecx/status/15131737626...  \n",
       "4  https://twitter.com/agseh/status/1513173864829...  "
      ]
     },
     "execution_count": 4,
     "metadata": {},
     "output_type": "execute_result"
    }
   ],
   "source": [
    "df_tweet.head(5)"
   ]
  },
  {
   "cell_type": "code",
   "execution_count": 5,
   "id": "4762e6af-8ac4-4ee6-81af-56a68f6c48d8",
   "metadata": {},
   "outputs": [
    {
     "name": "stdout",
     "output_type": "stream",
     "text": [
      "<class 'pandas.core.frame.DataFrame'>\n",
      "RangeIndex: 152000 entries, 0 to 151999\n",
      "Data columns (total 5 columns):\n",
      " #   Column                Non-Null Count   Dtype \n",
      "---  ------                --------------   ----- \n",
      " 0   Date & Time           152000 non-null  object\n",
      " 1   Profile Picture Link  152000 non-null  object\n",
      " 2   Twitter ID            152000 non-null  object\n",
      " 3   Tweet Text            152000 non-null  object\n",
      " 4   Tweet Link            152000 non-null  object\n",
      "dtypes: object(5)\n",
      "memory usage: 5.8+ MB\n"
     ]
    }
   ],
   "source": [
    "df_tweet.info()"
   ]
  },
  {
   "cell_type": "code",
   "execution_count": 15,
   "id": "e3a6457b-ff77-4c44-b577-44e68d50382a",
   "metadata": {},
   "outputs": [],
   "source": [
    "number_tweet = df_tweet.groupby(\"Twitter ID\")[[\"Tweet Text\"]].count().sort_values(by = \"Tweet Text\", ascending = False)"
   ]
  },
  {
   "cell_type": "code",
   "execution_count": 16,
   "id": "491c14cb-64f3-4167-839f-b34143e21904",
   "metadata": {},
   "outputs": [
    {
     "data": {
      "text/html": [
       "<div>\n",
       "<style scoped>\n",
       "    .dataframe tbody tr th:only-of-type {\n",
       "        vertical-align: middle;\n",
       "    }\n",
       "\n",
       "    .dataframe tbody tr th {\n",
       "        vertical-align: top;\n",
       "    }\n",
       "\n",
       "    .dataframe thead th {\n",
       "        text-align: right;\n",
       "    }\n",
       "</style>\n",
       "<table border=\"1\" class=\"dataframe\">\n",
       "  <thead>\n",
       "    <tr style=\"text-align: right;\">\n",
       "      <th></th>\n",
       "      <th>Tweet Text</th>\n",
       "    </tr>\n",
       "    <tr>\n",
       "      <th>Twitter ID</th>\n",
       "      <th></th>\n",
       "    </tr>\n",
       "  </thead>\n",
       "  <tbody>\n",
       "    <tr>\n",
       "      <th>@TeslaradarB</th>\n",
       "      <td>7411</td>\n",
       "    </tr>\n",
       "    <tr>\n",
       "      <th>@TeslaHourly</th>\n",
       "      <td>1354</td>\n",
       "    </tr>\n",
       "    <tr>\n",
       "      <th>@amazingvids3</th>\n",
       "      <td>1177</td>\n",
       "    </tr>\n",
       "    <tr>\n",
       "      <th>@JNHaldemann</th>\n",
       "      <td>1113</td>\n",
       "    </tr>\n",
       "    <tr>\n",
       "      <th>@Zxcxz_xyz</th>\n",
       "      <td>1035</td>\n",
       "    </tr>\n",
       "  </tbody>\n",
       "</table>\n",
       "</div>"
      ],
      "text/plain": [
       "               Tweet Text\n",
       "Twitter ID               \n",
       "@TeslaradarB         7411\n",
       "@TeslaHourly         1354\n",
       "@amazingvids3        1177\n",
       "@JNHaldemann         1113\n",
       "@Zxcxz_xyz           1035"
      ]
     },
     "execution_count": 16,
     "metadata": {},
     "output_type": "execute_result"
    }
   ],
   "source": [
    "number_tweet.head(5)"
   ]
  },
  {
   "cell_type": "code",
   "execution_count": 22,
   "id": "5a960f72-9d95-4a89-9cfb-d664cad44923",
   "metadata": {},
   "outputs": [],
   "source": [
    "df_tweet.columns = [\"Timestamp\", \"Picture_Link\", \"Twitter_ID\", \"Tweet_Text\", \"Tweet_link\"]"
   ]
  },
  {
   "cell_type": "code",
   "execution_count": 32,
   "id": "53a6b641-7a6c-4e2f-9d6d-da14ec228fa3",
   "metadata": {},
   "outputs": [
    {
     "data": {
      "text/plain": [
       "0                                                                                                                                  RT @invest_answers: Crypto news, #Bitcoin Whales, flying motorbikes, wealth disparity, #FoodInflation covering #LUNA #AVAX #ADA #Tesla #Google and more live at noon PT  https://t.co/TUAG7xkc21 https://t.co/zesBmuo7CR\n",
       "1                                                                                                                                   #Tesla tiene récord de autos vendidos. Es impresionante, pero no deja de sorprenderme que vendiendo 6 veces menos unidades que Toyota, por ejemplo, Tesla valga 3 o 4 veces más. https://t.co/u7Jm8oS54t vía @Inoreader\n",
       "2    RT @CottonCodes: 🐒 #love in my #MariaCallas I KNOW Y #art HOLDonLINE #music cool ; #Impfpflicht #LauterbachRuecktritt mir egal #TT36® #women take #BREAKING #family MATTERS egal #alielali #ElonMusk #Dance THE #Tesla #haber https://t.co/GlfDe35SBk #community  #USA #Democracy #Hacking #SpyxFamily https://t.co/wCqTvoHndQ https://t.co/8olFbnT9A4\n",
       "3    RT @CottonCodes: 🐒 #love in my #MariaCallas I KNOW Y #art HOLDonLINE #music cool ; #Impfpflicht #LauterbachRuecktritt mir egal #TT36® #women take #BREAKING #family MATTERS egal #alielali #ElonMusk #Dance THE #Tesla #haber https://t.co/GlfDe35SBk #community  #USA #Democracy #Hacking #SpyxFamily https://t.co/wCqTvoHndQ https://t.co/8olFbnT9A4\n",
       "4                                                                                                                                                                                      RT @RupiReportero_: 🙆‍♂️🚘 Al que le robaron las llantas del #Tesla en Lomas de Angelopolis, acá le dejo el tip de cuanto valen en michellin. https://t.co/vPFqavXrHC\n",
       "5                          RT @cb_doge: Tesla - A Trillion Dollar Company, World's Largest Car Manufacturer will be posting Q1,2022 Earnings on 4/20. \\n\\nDOGECOIN on their balance sheet will be made public for the first time. This will be just a beginning of the global adoption.\\n\\n#Tesla #Dogecoin @Tesla @elonmusk @omead https://t.co/Sd7t8vJ3Ii\n",
       "6                                                      @elonmusk, few #chargingstations in my area. I don’t have a #Tesla, but have #Powerwall, if anyone wants to donate a station (Tesla or J1772) I’ll get it installed at home &amp; add to #PlugShare for people. Maybe we can crowdfund charger installs to local businesses. https://t.co/4kmrbuPED3\n",
       "7                              RT @OneDropNFTs: Our team's experience might be #SolanaNFTs best kept secret. Lets get that secret out. \\n\\nLike, Follow, RT to win a @PrimordialMeat1 making you eligible for whitelist on our next project. Winner picked Tuesday. \\n\\n#Solana #Tesla #IBM #GratefulDead #foofighters #rockposters https://t.co/lTWw0X0wxe\n",
       "8                                                                                                                                                                                                      RT @GerberKawasaki: The future is now. The Giga Austin tour which ultimately led to more adventure. #tesla #cyberrodeo $tsla https://t.co/4FhLdlhz3F\n",
       "9                          RT @cb_doge: Tesla - A Trillion Dollar Company, World's Largest Car Manufacturer will be posting Q1,2022 Earnings on 4/20. \\n\\nDOGECOIN on their balance sheet will be made public for the first time. This will be just a beginning of the global adoption.\\n\\n#Tesla #Dogecoin @Tesla @elonmusk @omead https://t.co/Sd7t8vJ3Ii\n",
       "Name: Tweet_Text, dtype: object"
      ]
     },
     "execution_count": 32,
     "metadata": {},
     "output_type": "execute_result"
    }
   ],
   "source": [
    "pd.set_option('display.max_colwidth', None)\n",
    "df_tweet.Tweet_Text.head(10)"
   ]
  },
  {
   "cell_type": "code",
   "execution_count": 81,
   "id": "a5e8dc4c-6143-4b85-94f2-604cb6f7b1c7",
   "metadata": {},
   "outputs": [],
   "source": [
    "# create the text string\n",
    "text = \"RT @cb_doge: Tesla - A Trillion Dollar Company, World's Largest Car Manufacturer will be posting Q1,2022 Earnings on 4/20. \\n\\nDOGECOIN on their balance sheet will be made public for the first time. This will be just a beginning of the global adoption.\\n\\n#Tesla #Dogecoin @Tesla @elonmusk @omead https://t.co/Sd7t8vJ3Ii\"\n",
    "\n",
    "# define a regular expression pattern to match the different elements in the text\n",
    "pattern = r'(RT\\s)?(@\\w+:\\s)?([\\w\\s,.-]+)(#\\w+)?(@\\w+\\s?)*([\\w./:]+)?'\n",
    "\n",
    "# use the regular expression pattern to extract the relevant information into separate variables\n",
    "is_retweet = re.search(pattern, text).group(1) is not None\n",
    "people_mentioned = re.findall(r'(@\\w+)', text)\n",
    "message = re.search(pattern, text).group(3)\n",
    "hashtags = re.search(pattern, text).group(4)\n",
    "other_links = re.search(pattern, text).group(6)\n",
    "\n",
    "# create a dictionary with the extracted information\n",
    "data = {'is_retweet': is_retweet,\n",
    "        'people_mentioned': people_mentioned,\n",
    "        'message': message,\n",
    "        'hashtags': hashtags,\n",
    "        'other_links': other_links}\n",
    "\n",
    "# convert the dictionary into a DataFrame\n",
    "df = pd.DataFrame(data)\n"
   ]
  },
  {
   "cell_type": "code",
   "execution_count": 82,
   "id": "cc82654b-baab-4193-a5ca-f14f828305a8",
   "metadata": {},
   "outputs": [
    {
     "data": {
      "text/html": [
       "<div>\n",
       "<style scoped>\n",
       "    .dataframe tbody tr th:only-of-type {\n",
       "        vertical-align: middle;\n",
       "    }\n",
       "\n",
       "    .dataframe tbody tr th {\n",
       "        vertical-align: top;\n",
       "    }\n",
       "\n",
       "    .dataframe thead th {\n",
       "        text-align: right;\n",
       "    }\n",
       "</style>\n",
       "<table border=\"1\" class=\"dataframe\">\n",
       "  <thead>\n",
       "    <tr style=\"text-align: right;\">\n",
       "      <th></th>\n",
       "      <th>is_retweet</th>\n",
       "      <th>people_mentioned</th>\n",
       "      <th>message</th>\n",
       "      <th>hashtags</th>\n",
       "      <th>other_links</th>\n",
       "    </tr>\n",
       "  </thead>\n",
       "  <tbody>\n",
       "    <tr>\n",
       "      <th>0</th>\n",
       "      <td>True</td>\n",
       "      <td>@cb_doge</td>\n",
       "      <td>Tesla - A Trillion Dollar Company, World</td>\n",
       "      <td>None</td>\n",
       "      <td>None</td>\n",
       "    </tr>\n",
       "    <tr>\n",
       "      <th>1</th>\n",
       "      <td>True</td>\n",
       "      <td>@Tesla</td>\n",
       "      <td>Tesla - A Trillion Dollar Company, World</td>\n",
       "      <td>None</td>\n",
       "      <td>None</td>\n",
       "    </tr>\n",
       "    <tr>\n",
       "      <th>2</th>\n",
       "      <td>True</td>\n",
       "      <td>@elonmusk</td>\n",
       "      <td>Tesla - A Trillion Dollar Company, World</td>\n",
       "      <td>None</td>\n",
       "      <td>None</td>\n",
       "    </tr>\n",
       "    <tr>\n",
       "      <th>3</th>\n",
       "      <td>True</td>\n",
       "      <td>@omead</td>\n",
       "      <td>Tesla - A Trillion Dollar Company, World</td>\n",
       "      <td>None</td>\n",
       "      <td>None</td>\n",
       "    </tr>\n",
       "  </tbody>\n",
       "</table>\n",
       "</div>"
      ],
      "text/plain": [
       "   is_retweet people_mentioned                                   message  \\\n",
       "0        True         @cb_doge  Tesla - A Trillion Dollar Company, World   \n",
       "1        True           @Tesla  Tesla - A Trillion Dollar Company, World   \n",
       "2        True        @elonmusk  Tesla - A Trillion Dollar Company, World   \n",
       "3        True           @omead  Tesla - A Trillion Dollar Company, World   \n",
       "\n",
       "  hashtags other_links  \n",
       "0     None        None  \n",
       "1     None        None  \n",
       "2     None        None  \n",
       "3     None        None  "
      ]
     },
     "execution_count": 82,
     "metadata": {},
     "output_type": "execute_result"
    }
   ],
   "source": [
    "df"
   ]
  },
  {
   "cell_type": "code",
   "execution_count": 49,
   "id": "7fc03bb0-ca7c-4b92-8436-e7e229f99a7a",
   "metadata": {},
   "outputs": [],
   "source": [
    "df_tweet[\"Timestamp_new\"] = pd.to_datetime(df_tweet.Timestamp, format=\"%B %d, %Y at %I:%M%p\",errors='coerce')"
   ]
  },
  {
   "cell_type": "code",
   "execution_count": 50,
   "id": "562436e4-048d-4e7a-98ea-effedcfcb69f",
   "metadata": {},
   "outputs": [
    {
     "data": {
      "text/plain": [
       "53988   NaT\n",
       "72643   NaT\n",
       "Name: Timestamp, dtype: datetime64[ns]"
      ]
     },
     "execution_count": 50,
     "metadata": {},
     "output_type": "execute_result"
    }
   ],
   "source": [
    "df_tweet.Timestamp_new[df_tweet.Timestamp_new.isnull()]"
   ]
  },
  {
   "cell_type": "code",
   "execution_count": 51,
   "id": "20fe4618-d16a-4453-8ed3-1a6a62d93685",
   "metadata": {},
   "outputs": [],
   "source": [
    "df_tweet.loc[53988,\"Timestamp_new\"] = pd.to_datetime(df_tweet.loc[53988,\"Timestamp\"], format=\"%d-%b-%y\")\n",
    "df_tweet.loc[72643,\"Timestamp_new\"] = pd.to_datetime(df_tweet.loc[72643,\"Timestamp\"], format=\"%d-%b-%y\")"
   ]
  },
  {
   "cell_type": "code",
   "execution_count": 72,
   "id": "d1a42521-afae-458e-94be-3f50be9dd215",
   "metadata": {},
   "outputs": [],
   "source": [
    "max_date = max(df_tweet.Timestamp_new)"
   ]
  },
  {
   "cell_type": "code",
   "execution_count": 73,
   "id": "d00b6b60-4e59-40cf-9af6-4cdc27d6eb81",
   "metadata": {},
   "outputs": [],
   "source": [
    "min_date = min(df_tweet.Timestamp_new)"
   ]
  },
  {
   "cell_type": "markdown",
   "id": "24c4982e-b87b-44f5-84db-c386d28be429",
   "metadata": {},
   "source": [
    "#### Explore stock dataframe"
   ]
  },
  {
   "cell_type": "code",
   "execution_count": 56,
   "id": "4f51a3c9-e89c-4fce-b20d-dfc9c1429ad5",
   "metadata": {},
   "outputs": [
    {
     "name": "stdout",
     "output_type": "stream",
     "text": [
      "<class 'pandas.core.frame.DataFrame'>\n",
      "RangeIndex: 1258 entries, 0 to 1257\n",
      "Data columns (total 6 columns):\n",
      " #   Column      Non-Null Count  Dtype \n",
      "---  ------      --------------  ----- \n",
      " 0   Date        1258 non-null   object\n",
      " 1   Close/Last  1258 non-null   object\n",
      " 2   Volume      1258 non-null   int64 \n",
      " 3   Open        1258 non-null   object\n",
      " 4   High        1258 non-null   object\n",
      " 5   Low         1258 non-null   object\n",
      "dtypes: int64(1), object(5)\n",
      "memory usage: 59.1+ KB\n"
     ]
    }
   ],
   "source": [
    "df_stock.info()"
   ]
  },
  {
   "cell_type": "code",
   "execution_count": 57,
   "id": "a00268eb-6db9-45bd-914e-379aff723088",
   "metadata": {},
   "outputs": [
    {
     "data": {
      "text/html": [
       "<div>\n",
       "<style scoped>\n",
       "    .dataframe tbody tr th:only-of-type {\n",
       "        vertical-align: middle;\n",
       "    }\n",
       "\n",
       "    .dataframe tbody tr th {\n",
       "        vertical-align: top;\n",
       "    }\n",
       "\n",
       "    .dataframe thead th {\n",
       "        text-align: right;\n",
       "    }\n",
       "</style>\n",
       "<table border=\"1\" class=\"dataframe\">\n",
       "  <thead>\n",
       "    <tr style=\"text-align: right;\">\n",
       "      <th></th>\n",
       "      <th>Date</th>\n",
       "      <th>Close/Last</th>\n",
       "      <th>Volume</th>\n",
       "      <th>Open</th>\n",
       "      <th>High</th>\n",
       "      <th>Low</th>\n",
       "    </tr>\n",
       "  </thead>\n",
       "  <tbody>\n",
       "    <tr>\n",
       "      <th>0</th>\n",
       "      <td>03/02/2023</td>\n",
       "      <td>$190.90</td>\n",
       "      <td>181979200</td>\n",
       "      <td>$186.74</td>\n",
       "      <td>$193.7499</td>\n",
       "      <td>$186.01</td>\n",
       "    </tr>\n",
       "    <tr>\n",
       "      <th>1</th>\n",
       "      <td>03/01/2023</td>\n",
       "      <td>$202.77</td>\n",
       "      <td>156852800</td>\n",
       "      <td>$206.21</td>\n",
       "      <td>$207.20</td>\n",
       "      <td>$198.52</td>\n",
       "    </tr>\n",
       "    <tr>\n",
       "      <th>2</th>\n",
       "      <td>02/28/2023</td>\n",
       "      <td>$205.71</td>\n",
       "      <td>153144900</td>\n",
       "      <td>$210.59</td>\n",
       "      <td>$211.23</td>\n",
       "      <td>$203.75</td>\n",
       "    </tr>\n",
       "    <tr>\n",
       "      <th>3</th>\n",
       "      <td>02/27/2023</td>\n",
       "      <td>$207.63</td>\n",
       "      <td>161028300</td>\n",
       "      <td>$202.03</td>\n",
       "      <td>$209.42</td>\n",
       "      <td>$201.26</td>\n",
       "    </tr>\n",
       "    <tr>\n",
       "      <th>4</th>\n",
       "      <td>02/24/2023</td>\n",
       "      <td>$196.88</td>\n",
       "      <td>142228100</td>\n",
       "      <td>$196.325</td>\n",
       "      <td>$197.6695</td>\n",
       "      <td>$192.80</td>\n",
       "    </tr>\n",
       "  </tbody>\n",
       "</table>\n",
       "</div>"
      ],
      "text/plain": [
       "         Date Close/Last     Volume      Open       High      Low\n",
       "0  03/02/2023    $190.90  181979200   $186.74  $193.7499  $186.01\n",
       "1  03/01/2023    $202.77  156852800   $206.21    $207.20  $198.52\n",
       "2  02/28/2023    $205.71  153144900   $210.59    $211.23  $203.75\n",
       "3  02/27/2023    $207.63  161028300   $202.03    $209.42  $201.26\n",
       "4  02/24/2023    $196.88  142228100  $196.325  $197.6695  $192.80"
      ]
     },
     "execution_count": 57,
     "metadata": {},
     "output_type": "execute_result"
    }
   ],
   "source": [
    "df_stock.head(5)"
   ]
  },
  {
   "cell_type": "code",
   "execution_count": 58,
   "id": "117c1f76-18ca-4f58-ade0-e0f9d43f9633",
   "metadata": {},
   "outputs": [],
   "source": [
    "df_stock.Date = pd.to_datetime(df_stock.Date, format=\"%m/%d/%Y\")"
   ]
  },
  {
   "cell_type": "code",
   "execution_count": 67,
   "id": "1fec2015-4ea7-4ad0-ac23-4ac9338b3416",
   "metadata": {},
   "outputs": [
    {
     "name": "stdout",
     "output_type": "stream",
     "text": [
      "<class 'pandas.core.frame.DataFrame'>\n",
      "RangeIndex: 152000 entries, 0 to 151999\n",
      "Data columns (total 6 columns):\n",
      " #   Column         Non-Null Count   Dtype         \n",
      "---  ------         --------------   -----         \n",
      " 0   Timestamp      152000 non-null  object        \n",
      " 1   Picture_Link   152000 non-null  object        \n",
      " 2   Twitter_ID     152000 non-null  object        \n",
      " 3   Tweet_Text     152000 non-null  object        \n",
      " 4   Tweet_link     152000 non-null  object        \n",
      " 5   Timestamp_new  152000 non-null  datetime64[ns]\n",
      "dtypes: datetime64[ns](1), object(5)\n",
      "memory usage: 7.0+ MB\n"
     ]
    }
   ],
   "source": [
    "df_tweet.info()"
   ]
  },
  {
   "cell_type": "code",
   "execution_count": 76,
   "id": "46cdbcca-204e-4502-9b07-7754a731b75a",
   "metadata": {},
   "outputs": [],
   "source": [
    "df_stock_observed = df_stock[(df_stock.Date <= max_date) &(df_stock.Date >= min_date)]"
   ]
  },
  {
   "cell_type": "code",
   "execution_count": 78,
   "id": "daaf409b-f102-4592-9c57-7b7509e3072c",
   "metadata": {},
   "outputs": [
    {
     "name": "stdout",
     "output_type": "stream",
     "text": [
      "2022-11-12 15:11:00 2022-04-10 19:44:00\n",
      "2022-11-11 00:00:00 2022-04-11 00:00:00\n"
     ]
    }
   ],
   "source": [
    "print(max_date, min_date)\n",
    "print(max(df_stock_observed.Date),min(df_stock_observed.Date))"
   ]
  }
 ],
 "metadata": {
  "kernelspec": {
   "display_name": "Python 3 (ipykernel)",
   "language": "python",
   "name": "python3"
  },
  "language_info": {
   "codemirror_mode": {
    "name": "ipython",
    "version": 3
   },
   "file_extension": ".py",
   "mimetype": "text/x-python",
   "name": "python",
   "nbconvert_exporter": "python",
   "pygments_lexer": "ipython3",
   "version": "3.9.12"
  }
 },
 "nbformat": 4,
 "nbformat_minor": 5
}
